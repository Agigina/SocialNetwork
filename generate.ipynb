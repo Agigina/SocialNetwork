{
 "cells": [
  {
   "cell_type": "code",
   "execution_count": 1,
   "metadata": {},
   "outputs": [],
   "source": [
    "from GenerateInfo import generate\r\n",
    "import random\r\n",
    "import requests\r\n",
    "import json\r\n",
    "import pandas as pd\r\n",
    "import random"
   ]
  },
  {
   "cell_type": "code",
   "execution_count": 2,
   "metadata": {},
   "outputs": [
    {
     "name": "stdout",
     "output_type": "stream",
     "text": [
      "0\n",
      "50\n",
      "100\n",
      "150\n"
     ]
    }
   ],
   "source": [
    "# 随机产生数据\r\n",
    "generate(200)"
   ]
  },
  {
   "cell_type": "code",
   "execution_count": 1,
   "metadata": {},
   "outputs": [],
   "source": [
    "from GenerateInfo import generate_relation"
   ]
  },
  {
   "cell_type": "code",
   "execution_count": 2,
   "metadata": {},
   "outputs": [],
   "source": [
    "generate_relation(200)"
   ]
  },
  {
   "cell_type": "code",
   "execution_count": 8,
   "metadata": {},
   "outputs": [],
   "source": [
    "from GenerateInfo import generate_json"
   ]
  },
  {
   "cell_type": "code",
   "execution_count": 9,
   "metadata": {},
   "outputs": [],
   "source": [
    "generate_json()"
   ]
  },
  {
   "cell_type": "code",
   "execution_count": 10,
   "metadata": {},
   "outputs": [],
   "source": [
    "import json\r\n",
    "\r\n",
    "from pyecharts import options as opts\r\n",
    "from pyecharts.charts import Graph\r\n",
    "\r\n",
    "rich_text = {\r\n",
    "    \"a\": {\"color\": \"#999\", \"lineHeight\": 22, \"align\": \"center\"},\r\n",
    "    \"abg\": {\r\n",
    "        \"backgroundColor\": \"#e3e3e3\",\r\n",
    "        \"width\": \"100%\",\r\n",
    "        \"align\": \"right\",\r\n",
    "        \"height\": 22,\r\n",
    "        \"borderRadius\": [4, 4, 0, 0],\r\n",
    "    },\r\n",
    "    \"hr\": {\r\n",
    "        \"borderColor\": \"#aaa\",\r\n",
    "        \"width\": \"100%\",\r\n",
    "        \"borderWidth\": 0.5,\r\n",
    "        \"height\": 0,\r\n",
    "    },\r\n",
    "    \"b\": {\"fontSize\": 16, \"lineHeight\": 33},\r\n",
    "    \"per\": {\r\n",
    "        \"color\": \"#eee\",\r\n",
    "        \"backgroundColor\": \"#334455\",\r\n",
    "        \"padding\": [2, 4],\r\n",
    "        \"borderRadius\": 2,\r\n",
    "    },\r\n",
    "}\r\n",
    "\r\n",
    "with open(\"data.json\", \"r\", encoding=\"utf-8\") as f:\r\n",
    "    j = json.load(f)\r\n",
    "    nodes, links, categories = j\r\n",
    "c = (\r\n",
    "    Graph(opts. InitOpts(width=\"1500px\",height=\"600px\",page_title=\"Display\",renderer= \"svg\",theme=\"macarons\"))\r\n",
    "    .add(\r\n",
    "        \"\",\r\n",
    "        nodes,\r\n",
    "        links,\r\n",
    "        categories,\r\n",
    "        repulsion=50,\r\n",
    "        linestyle_opts=opts.LineStyleOpts(curve=0.2),\r\n",
    "        label_opts=opts.LabelOpts(is_show=False),\r\n",
    "        layout=\"force\"\r\n",
    "    )\r\n",
    "    .set_global_opts(\r\n",
    "        legend_opts=opts.LegendOpts(is_show=False),\r\n",
    "        title_opts=opts.TitleOpts(title=\"Graph-微博转发关系图\",title_textstyle_opts=opts.TextStyleOpts(\r\n",
    "                color='blue',\r\n",
    "                font_size=\"30\",\r\n",
    "                # rich=rich_text\r\n",
    "            ),pos_left=\"30%\"),\r\n",
    "        toolbox_opts=opts.ToolboxOpts(\r\n",
    "        is_show=True,\r\n",
    "        orient=\"vertical\",\r\n",
    "        feature=opts.ToolBoxFeatureOpts(\r\n",
    "            # save_as_image=opts.ToolBoxFeatureSaveAsImageOpts(type_=\"jpeg\", icon=image://url, pixel_ratio=2),\r\n",
    "            restore=opts.ToolBoxFeatureRestoreOpts(),\r\n",
    "            data_view=opts.ToolBoxFeatureDataViewOpts(),\r\n",
    "            data_zoom=opts.ToolBoxFeatureDataZoomOpts(),\r\n",
    "            magic_type=opts.ToolBoxFeatureDataViewOpts(),\r\n",
    "            brush=opts.ToolBoxFeatureDataZoomOpts(),\r\n",
    "        )\r\n",
    "    )\r\n",
    "    )\r\n",
    "    .set_series_opts(\r\n",
    "        label_opts=opts.LabelOpts(\r\n",
    "            is_show=False)\r\n",
    "    )\r\n",
    "    .render(\"graph_weibo.html\")\r\n",
    ")\r\n"
   ]
  },
  {
   "cell_type": "code",
   "execution_count": null,
   "metadata": {},
   "outputs": [],
   "source": []
  }
 ],
 "metadata": {
  "interpreter": {
   "hash": "e294c5b808f003f030eb0958300febb3c646f194c2f6f17aa42f49a69c2ecd66"
  },
  "kernelspec": {
   "display_name": "Python 3.8.3 64-bit ('relation': venv)",
   "name": "python3"
  },
  "language_info": {
   "name": "python",
   "version": ""
  },
  "orig_nbformat": 4
 },
 "nbformat": 4,
 "nbformat_minor": 2
}